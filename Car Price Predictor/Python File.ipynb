{
 "cells": [
  {
   "cell_type": "markdown",
   "id": "e148636e",
   "metadata": {},
   "source": [
    "### STEP 1) IMPORTING LIBRARIES"
   ]
  },
  {
   "cell_type": "code",
   "execution_count": 110,
   "id": "c5755698",
   "metadata": {},
   "outputs": [],
   "source": [
    "import pandas as pd\n",
    "import matplotlib.pyplot as plt\n",
    "from pandas.plotting import scatter_matrix\n",
    "import seaborn as sns\n",
    "import numpy as np\n",
    "from sklearn.model_selection import train_test_split\n",
    "from sklearn import preprocessing,metrics,linear_model\n",
    "from sklearn.metrics import mean_squared_log_error, r2_score\n",
    "from sklearn.model_selection import cross_val_score\n",
    "import math\n",
    "from sklearn.preprocessing import OneHotEncoder"
   ]
  },
  {
   "cell_type": "markdown",
   "id": "55feb116",
   "metadata": {},
   "source": [
    "### STEP 2) READING DATA"
   ]
  },
  {
   "cell_type": "code",
   "execution_count": 111,
   "id": "4f039441",
   "metadata": {},
   "outputs": [
    {
     "data": {
      "text/html": [
       "<div>\n",
       "<style scoped>\n",
       "    .dataframe tbody tr th:only-of-type {\n",
       "        vertical-align: middle;\n",
       "    }\n",
       "\n",
       "    .dataframe tbody tr th {\n",
       "        vertical-align: top;\n",
       "    }\n",
       "\n",
       "    .dataframe thead th {\n",
       "        text-align: right;\n",
       "    }\n",
       "</style>\n",
       "<table border=\"1\" class=\"dataframe\">\n",
       "  <thead>\n",
       "    <tr style=\"text-align: right;\">\n",
       "      <th></th>\n",
       "      <th>Id</th>\n",
       "      <th>Model</th>\n",
       "      <th>Price</th>\n",
       "      <th>Age_08_04</th>\n",
       "      <th>Mfg_Month</th>\n",
       "      <th>Mfg_Year</th>\n",
       "      <th>KM</th>\n",
       "      <th>Fuel_Type</th>\n",
       "      <th>HP</th>\n",
       "      <th>Met_Color</th>\n",
       "      <th>...</th>\n",
       "      <th>Central_Lock</th>\n",
       "      <th>Powered_Windows</th>\n",
       "      <th>Power_Steering</th>\n",
       "      <th>Radio</th>\n",
       "      <th>Mistlamps</th>\n",
       "      <th>Sport_Model</th>\n",
       "      <th>Backseat_Divider</th>\n",
       "      <th>Metallic_Rim</th>\n",
       "      <th>Radio_cassette</th>\n",
       "      <th>Tow_Bar</th>\n",
       "    </tr>\n",
       "  </thead>\n",
       "  <tbody>\n",
       "    <tr>\n",
       "      <th>0</th>\n",
       "      <td>1</td>\n",
       "      <td>TOYOTA Corolla 2.0 D4D HATCHB TERRA 2/3-Doors</td>\n",
       "      <td>13500</td>\n",
       "      <td>23</td>\n",
       "      <td>10</td>\n",
       "      <td>2002</td>\n",
       "      <td>46986</td>\n",
       "      <td>Diesel</td>\n",
       "      <td>90</td>\n",
       "      <td>1</td>\n",
       "      <td>...</td>\n",
       "      <td>1</td>\n",
       "      <td>1</td>\n",
       "      <td>1</td>\n",
       "      <td>0</td>\n",
       "      <td>0</td>\n",
       "      <td>0</td>\n",
       "      <td>1</td>\n",
       "      <td>0</td>\n",
       "      <td>0</td>\n",
       "      <td>0</td>\n",
       "    </tr>\n",
       "    <tr>\n",
       "      <th>1</th>\n",
       "      <td>2</td>\n",
       "      <td>TOYOTA Corolla 2.0 D4D HATCHB TERRA 2/3-Doors</td>\n",
       "      <td>13750</td>\n",
       "      <td>23</td>\n",
       "      <td>10</td>\n",
       "      <td>2002</td>\n",
       "      <td>72937</td>\n",
       "      <td>Diesel</td>\n",
       "      <td>90</td>\n",
       "      <td>1</td>\n",
       "      <td>...</td>\n",
       "      <td>1</td>\n",
       "      <td>0</td>\n",
       "      <td>1</td>\n",
       "      <td>0</td>\n",
       "      <td>0</td>\n",
       "      <td>0</td>\n",
       "      <td>1</td>\n",
       "      <td>0</td>\n",
       "      <td>0</td>\n",
       "      <td>0</td>\n",
       "    </tr>\n",
       "    <tr>\n",
       "      <th>2</th>\n",
       "      <td>3</td>\n",
       "      <td>TOYOTA Corolla 2.0 D4D HATCHB TERRA 2/3-Doors</td>\n",
       "      <td>13950</td>\n",
       "      <td>24</td>\n",
       "      <td>9</td>\n",
       "      <td>2002</td>\n",
       "      <td>41711</td>\n",
       "      <td>Diesel</td>\n",
       "      <td>90</td>\n",
       "      <td>1</td>\n",
       "      <td>...</td>\n",
       "      <td>0</td>\n",
       "      <td>0</td>\n",
       "      <td>1</td>\n",
       "      <td>0</td>\n",
       "      <td>0</td>\n",
       "      <td>0</td>\n",
       "      <td>1</td>\n",
       "      <td>0</td>\n",
       "      <td>0</td>\n",
       "      <td>0</td>\n",
       "    </tr>\n",
       "    <tr>\n",
       "      <th>3</th>\n",
       "      <td>4</td>\n",
       "      <td>TOYOTA Corolla 2.0 D4D HATCHB TERRA 2/3-Doors</td>\n",
       "      <td>14950</td>\n",
       "      <td>26</td>\n",
       "      <td>7</td>\n",
       "      <td>2002</td>\n",
       "      <td>48000</td>\n",
       "      <td>Diesel</td>\n",
       "      <td>90</td>\n",
       "      <td>0</td>\n",
       "      <td>...</td>\n",
       "      <td>0</td>\n",
       "      <td>0</td>\n",
       "      <td>1</td>\n",
       "      <td>0</td>\n",
       "      <td>0</td>\n",
       "      <td>0</td>\n",
       "      <td>1</td>\n",
       "      <td>0</td>\n",
       "      <td>0</td>\n",
       "      <td>0</td>\n",
       "    </tr>\n",
       "    <tr>\n",
       "      <th>4</th>\n",
       "      <td>5</td>\n",
       "      <td>TOYOTA Corolla 2.0 D4D HATCHB SOL 2/3-Doors</td>\n",
       "      <td>13750</td>\n",
       "      <td>30</td>\n",
       "      <td>3</td>\n",
       "      <td>2002</td>\n",
       "      <td>38500</td>\n",
       "      <td>Diesel</td>\n",
       "      <td>90</td>\n",
       "      <td>0</td>\n",
       "      <td>...</td>\n",
       "      <td>1</td>\n",
       "      <td>1</td>\n",
       "      <td>1</td>\n",
       "      <td>0</td>\n",
       "      <td>1</td>\n",
       "      <td>0</td>\n",
       "      <td>1</td>\n",
       "      <td>0</td>\n",
       "      <td>0</td>\n",
       "      <td>0</td>\n",
       "    </tr>\n",
       "  </tbody>\n",
       "</table>\n",
       "<p>5 rows × 38 columns</p>\n",
       "</div>"
      ],
      "text/plain": [
       "   Id                                           Model  Price  Age_08_04  \\\n",
       "0   1   TOYOTA Corolla 2.0 D4D HATCHB TERRA 2/3-Doors  13500         23   \n",
       "1   2   TOYOTA Corolla 2.0 D4D HATCHB TERRA 2/3-Doors  13750         23   \n",
       "2   3   TOYOTA Corolla 2.0 D4D HATCHB TERRA 2/3-Doors  13950         24   \n",
       "3   4   TOYOTA Corolla 2.0 D4D HATCHB TERRA 2/3-Doors  14950         26   \n",
       "4   5     TOYOTA Corolla 2.0 D4D HATCHB SOL 2/3-Doors  13750         30   \n",
       "\n",
       "   Mfg_Month  Mfg_Year     KM Fuel_Type  HP  Met_Color  ... Central_Lock  \\\n",
       "0         10      2002  46986    Diesel  90          1  ...            1   \n",
       "1         10      2002  72937    Diesel  90          1  ...            1   \n",
       "2          9      2002  41711    Diesel  90          1  ...            0   \n",
       "3          7      2002  48000    Diesel  90          0  ...            0   \n",
       "4          3      2002  38500    Diesel  90          0  ...            1   \n",
       "\n",
       "   Powered_Windows  Power_Steering  Radio  Mistlamps  Sport_Model  \\\n",
       "0                1               1      0          0            0   \n",
       "1                0               1      0          0            0   \n",
       "2                0               1      0          0            0   \n",
       "3                0               1      0          0            0   \n",
       "4                1               1      0          1            0   \n",
       "\n",
       "   Backseat_Divider  Metallic_Rim  Radio_cassette  Tow_Bar  \n",
       "0                 1             0               0        0  \n",
       "1                 1             0               0        0  \n",
       "2                 1             0               0        0  \n",
       "3                 1             0               0        0  \n",
       "4                 1             0               0        0  \n",
       "\n",
       "[5 rows x 38 columns]"
      ]
     },
     "execution_count": 111,
     "metadata": {},
     "output_type": "execute_result"
    }
   ],
   "source": [
    "data=pd.read_excel(r\"ToyotaCorolla.xlsx\")\n",
    "data.head(5)"
   ]
  },
  {
   "cell_type": "code",
   "execution_count": 112,
   "id": "c64006eb",
   "metadata": {},
   "outputs": [
    {
     "data": {
      "text/plain": [
       "Index(['Id', 'Model', 'Price', 'Age_08_04', 'Mfg_Month', 'Mfg_Year', 'KM',\n",
       "       'Fuel_Type', 'HP', 'Met_Color', 'Color', 'Automatic', 'CC', 'Doors',\n",
       "       'Cylinders', 'Gears', 'Quarterly_Tax', 'Weight', 'Mfg_Guarantee',\n",
       "       'BOVAG_Guarantee', 'Guarantee_Period', 'ABS', 'Airbag_1', 'Airbag_2',\n",
       "       'Airco', 'Automatic_airco', 'Boardcomputer', 'CD_Player',\n",
       "       'Central_Lock', 'Powered_Windows', 'Power_Steering', 'Radio',\n",
       "       'Mistlamps', 'Sport_Model', 'Backseat_Divider', 'Metallic_Rim',\n",
       "       'Radio_cassette', 'Tow_Bar'],\n",
       "      dtype='object')"
      ]
     },
     "execution_count": 112,
     "metadata": {},
     "output_type": "execute_result"
    }
   ],
   "source": [
    "data.columns"
   ]
  },
  {
   "cell_type": "markdown",
   "id": "a74561c2",
   "metadata": {},
   "source": [
    "### STEP 3) EDA"
   ]
  },
  {
   "cell_type": "markdown",
   "id": "ecbe7727",
   "metadata": {},
   "source": [
    "### 3.1) CHECKING SHAPE OF DATA"
   ]
  },
  {
   "cell_type": "code",
   "execution_count": 113,
   "id": "ea5e3dbe",
   "metadata": {},
   "outputs": [
    {
     "data": {
      "text/plain": [
       "(1436, 38)"
      ]
     },
     "execution_count": 113,
     "metadata": {},
     "output_type": "execute_result"
    }
   ],
   "source": [
    "data.shape"
   ]
  },
  {
   "cell_type": "markdown",
   "id": "95e60be6",
   "metadata": {},
   "source": [
    "### 3.2) DATA TYPE CHECK"
   ]
  },
  {
   "cell_type": "code",
   "execution_count": 114,
   "id": "ec31c0cb",
   "metadata": {},
   "outputs": [
    {
     "data": {
      "text/plain": [
       "Id                   int64\n",
       "Model               object\n",
       "Price                int64\n",
       "Age_08_04            int64\n",
       "Mfg_Month            int64\n",
       "Mfg_Year             int64\n",
       "KM                   int64\n",
       "Fuel_Type           object\n",
       "HP                   int64\n",
       "Met_Color            int64\n",
       "Color               object\n",
       "Automatic            int64\n",
       "CC                   int64\n",
       "Doors                int64\n",
       "Cylinders            int64\n",
       "Gears                int64\n",
       "Quarterly_Tax        int64\n",
       "Weight               int64\n",
       "Mfg_Guarantee        int64\n",
       "BOVAG_Guarantee      int64\n",
       "Guarantee_Period     int64\n",
       "ABS                  int64\n",
       "Airbag_1             int64\n",
       "Airbag_2             int64\n",
       "Airco                int64\n",
       "Automatic_airco      int64\n",
       "Boardcomputer        int64\n",
       "CD_Player            int64\n",
       "Central_Lock         int64\n",
       "Powered_Windows      int64\n",
       "Power_Steering       int64\n",
       "Radio                int64\n",
       "Mistlamps            int64\n",
       "Sport_Model          int64\n",
       "Backseat_Divider     int64\n",
       "Metallic_Rim         int64\n",
       "Radio_cassette       int64\n",
       "Tow_Bar              int64\n",
       "dtype: object"
      ]
     },
     "execution_count": 114,
     "metadata": {},
     "output_type": "execute_result"
    }
   ],
   "source": [
    "data.dtypes"
   ]
  },
  {
   "cell_type": "markdown",
   "id": "0a3dbc12",
   "metadata": {},
   "source": [
    "#### Datatypes don't require any changes"
   ]
  },
  {
   "cell_type": "markdown",
   "id": "42f49cc1",
   "metadata": {},
   "source": [
    "### 3.3) DUPLICATE DATA"
   ]
  },
  {
   "cell_type": "code",
   "execution_count": 115,
   "id": "6a9b4a71",
   "metadata": {},
   "outputs": [
    {
     "data": {
      "text/html": [
       "<div>\n",
       "<style scoped>\n",
       "    .dataframe tbody tr th:only-of-type {\n",
       "        vertical-align: middle;\n",
       "    }\n",
       "\n",
       "    .dataframe tbody tr th {\n",
       "        vertical-align: top;\n",
       "    }\n",
       "\n",
       "    .dataframe thead th {\n",
       "        text-align: right;\n",
       "    }\n",
       "</style>\n",
       "<table border=\"1\" class=\"dataframe\">\n",
       "  <thead>\n",
       "    <tr style=\"text-align: right;\">\n",
       "      <th></th>\n",
       "      <th>Id</th>\n",
       "      <th>Model</th>\n",
       "      <th>Price</th>\n",
       "      <th>Age_08_04</th>\n",
       "      <th>Mfg_Month</th>\n",
       "      <th>Mfg_Year</th>\n",
       "      <th>KM</th>\n",
       "      <th>Fuel_Type</th>\n",
       "      <th>HP</th>\n",
       "      <th>Met_Color</th>\n",
       "      <th>...</th>\n",
       "      <th>Central_Lock</th>\n",
       "      <th>Powered_Windows</th>\n",
       "      <th>Power_Steering</th>\n",
       "      <th>Radio</th>\n",
       "      <th>Mistlamps</th>\n",
       "      <th>Sport_Model</th>\n",
       "      <th>Backseat_Divider</th>\n",
       "      <th>Metallic_Rim</th>\n",
       "      <th>Radio_cassette</th>\n",
       "      <th>Tow_Bar</th>\n",
       "    </tr>\n",
       "  </thead>\n",
       "  <tbody>\n",
       "    <tr>\n",
       "      <th>113</th>\n",
       "      <td>115</td>\n",
       "      <td>TOYOTA Corolla VERSO 2.0 D4D LINEA SOL MPV</td>\n",
       "      <td>24950</td>\n",
       "      <td>8</td>\n",
       "      <td>1</td>\n",
       "      <td>2004</td>\n",
       "      <td>13253</td>\n",
       "      <td>Diesel</td>\n",
       "      <td>116</td>\n",
       "      <td>1</td>\n",
       "      <td>...</td>\n",
       "      <td>1</td>\n",
       "      <td>1</td>\n",
       "      <td>1</td>\n",
       "      <td>0</td>\n",
       "      <td>0</td>\n",
       "      <td>0</td>\n",
       "      <td>0</td>\n",
       "      <td>0</td>\n",
       "      <td>0</td>\n",
       "      <td>0</td>\n",
       "    </tr>\n",
       "  </tbody>\n",
       "</table>\n",
       "<p>1 rows × 38 columns</p>\n",
       "</div>"
      ],
      "text/plain": [
       "      Id                                       Model  Price  Age_08_04  \\\n",
       "113  115  TOYOTA Corolla VERSO 2.0 D4D LINEA SOL MPV  24950          8   \n",
       "\n",
       "     Mfg_Month  Mfg_Year     KM Fuel_Type   HP  Met_Color  ... Central_Lock  \\\n",
       "113          1      2004  13253    Diesel  116          1  ...            1   \n",
       "\n",
       "     Powered_Windows  Power_Steering  Radio  Mistlamps  Sport_Model  \\\n",
       "113                1               1      0          0            0   \n",
       "\n",
       "     Backseat_Divider  Metallic_Rim  Radio_cassette  Tow_Bar  \n",
       "113                 0             0               0        0  \n",
       "\n",
       "[1 rows x 38 columns]"
      ]
     },
     "execution_count": 115,
     "metadata": {},
     "output_type": "execute_result"
    }
   ],
   "source": [
    "data[data.duplicated(subset=['Price','Age_08_04','KM','HP','CC','Doors','Gears','Quarterly_Tax','Weight'])]"
   ]
  },
  {
   "cell_type": "markdown",
   "id": "5f0eb57c",
   "metadata": {},
   "source": [
    "#### We can see that there was a duplicate row 113 so we dropped it from our dataset"
   ]
  },
  {
   "cell_type": "code",
   "execution_count": 116,
   "id": "78298cc9",
   "metadata": {},
   "outputs": [
    {
     "data": {
      "text/html": [
       "<div>\n",
       "<style scoped>\n",
       "    .dataframe tbody tr th:only-of-type {\n",
       "        vertical-align: middle;\n",
       "    }\n",
       "\n",
       "    .dataframe tbody tr th {\n",
       "        vertical-align: top;\n",
       "    }\n",
       "\n",
       "    .dataframe thead th {\n",
       "        text-align: right;\n",
       "    }\n",
       "</style>\n",
       "<table border=\"1\" class=\"dataframe\">\n",
       "  <thead>\n",
       "    <tr style=\"text-align: right;\">\n",
       "      <th></th>\n",
       "      <th>Id</th>\n",
       "      <th>Model</th>\n",
       "      <th>Price</th>\n",
       "      <th>Age_08_04</th>\n",
       "      <th>Mfg_Month</th>\n",
       "      <th>Mfg_Year</th>\n",
       "      <th>KM</th>\n",
       "      <th>Fuel_Type</th>\n",
       "      <th>HP</th>\n",
       "      <th>Met_Color</th>\n",
       "      <th>...</th>\n",
       "      <th>Central_Lock</th>\n",
       "      <th>Powered_Windows</th>\n",
       "      <th>Power_Steering</th>\n",
       "      <th>Radio</th>\n",
       "      <th>Mistlamps</th>\n",
       "      <th>Sport_Model</th>\n",
       "      <th>Backseat_Divider</th>\n",
       "      <th>Metallic_Rim</th>\n",
       "      <th>Radio_cassette</th>\n",
       "      <th>Tow_Bar</th>\n",
       "    </tr>\n",
       "  </thead>\n",
       "  <tbody>\n",
       "    <tr>\n",
       "      <th>0</th>\n",
       "      <td>1</td>\n",
       "      <td>TOYOTA Corolla 2.0 D4D HATCHB TERRA 2/3-Doors</td>\n",
       "      <td>13500</td>\n",
       "      <td>23</td>\n",
       "      <td>10</td>\n",
       "      <td>2002</td>\n",
       "      <td>46986</td>\n",
       "      <td>Diesel</td>\n",
       "      <td>90</td>\n",
       "      <td>1</td>\n",
       "      <td>...</td>\n",
       "      <td>1</td>\n",
       "      <td>1</td>\n",
       "      <td>1</td>\n",
       "      <td>0</td>\n",
       "      <td>0</td>\n",
       "      <td>0</td>\n",
       "      <td>1</td>\n",
       "      <td>0</td>\n",
       "      <td>0</td>\n",
       "      <td>0</td>\n",
       "    </tr>\n",
       "    <tr>\n",
       "      <th>1</th>\n",
       "      <td>2</td>\n",
       "      <td>TOYOTA Corolla 2.0 D4D HATCHB TERRA 2/3-Doors</td>\n",
       "      <td>13750</td>\n",
       "      <td>23</td>\n",
       "      <td>10</td>\n",
       "      <td>2002</td>\n",
       "      <td>72937</td>\n",
       "      <td>Diesel</td>\n",
       "      <td>90</td>\n",
       "      <td>1</td>\n",
       "      <td>...</td>\n",
       "      <td>1</td>\n",
       "      <td>0</td>\n",
       "      <td>1</td>\n",
       "      <td>0</td>\n",
       "      <td>0</td>\n",
       "      <td>0</td>\n",
       "      <td>1</td>\n",
       "      <td>0</td>\n",
       "      <td>0</td>\n",
       "      <td>0</td>\n",
       "    </tr>\n",
       "    <tr>\n",
       "      <th>2</th>\n",
       "      <td>3</td>\n",
       "      <td>TOYOTA Corolla 2.0 D4D HATCHB TERRA 2/3-Doors</td>\n",
       "      <td>13950</td>\n",
       "      <td>24</td>\n",
       "      <td>9</td>\n",
       "      <td>2002</td>\n",
       "      <td>41711</td>\n",
       "      <td>Diesel</td>\n",
       "      <td>90</td>\n",
       "      <td>1</td>\n",
       "      <td>...</td>\n",
       "      <td>0</td>\n",
       "      <td>0</td>\n",
       "      <td>1</td>\n",
       "      <td>0</td>\n",
       "      <td>0</td>\n",
       "      <td>0</td>\n",
       "      <td>1</td>\n",
       "      <td>0</td>\n",
       "      <td>0</td>\n",
       "      <td>0</td>\n",
       "    </tr>\n",
       "    <tr>\n",
       "      <th>3</th>\n",
       "      <td>4</td>\n",
       "      <td>TOYOTA Corolla 2.0 D4D HATCHB TERRA 2/3-Doors</td>\n",
       "      <td>14950</td>\n",
       "      <td>26</td>\n",
       "      <td>7</td>\n",
       "      <td>2002</td>\n",
       "      <td>48000</td>\n",
       "      <td>Diesel</td>\n",
       "      <td>90</td>\n",
       "      <td>0</td>\n",
       "      <td>...</td>\n",
       "      <td>0</td>\n",
       "      <td>0</td>\n",
       "      <td>1</td>\n",
       "      <td>0</td>\n",
       "      <td>0</td>\n",
       "      <td>0</td>\n",
       "      <td>1</td>\n",
       "      <td>0</td>\n",
       "      <td>0</td>\n",
       "      <td>0</td>\n",
       "    </tr>\n",
       "    <tr>\n",
       "      <th>4</th>\n",
       "      <td>5</td>\n",
       "      <td>TOYOTA Corolla 2.0 D4D HATCHB SOL 2/3-Doors</td>\n",
       "      <td>13750</td>\n",
       "      <td>30</td>\n",
       "      <td>3</td>\n",
       "      <td>2002</td>\n",
       "      <td>38500</td>\n",
       "      <td>Diesel</td>\n",
       "      <td>90</td>\n",
       "      <td>0</td>\n",
       "      <td>...</td>\n",
       "      <td>1</td>\n",
       "      <td>1</td>\n",
       "      <td>1</td>\n",
       "      <td>0</td>\n",
       "      <td>1</td>\n",
       "      <td>0</td>\n",
       "      <td>1</td>\n",
       "      <td>0</td>\n",
       "      <td>0</td>\n",
       "      <td>0</td>\n",
       "    </tr>\n",
       "    <tr>\n",
       "      <th>...</th>\n",
       "      <td>...</td>\n",
       "      <td>...</td>\n",
       "      <td>...</td>\n",
       "      <td>...</td>\n",
       "      <td>...</td>\n",
       "      <td>...</td>\n",
       "      <td>...</td>\n",
       "      <td>...</td>\n",
       "      <td>...</td>\n",
       "      <td>...</td>\n",
       "      <td>...</td>\n",
       "      <td>...</td>\n",
       "      <td>...</td>\n",
       "      <td>...</td>\n",
       "      <td>...</td>\n",
       "      <td>...</td>\n",
       "      <td>...</td>\n",
       "      <td>...</td>\n",
       "      <td>...</td>\n",
       "      <td>...</td>\n",
       "      <td>...</td>\n",
       "    </tr>\n",
       "    <tr>\n",
       "      <th>1431</th>\n",
       "      <td>1438</td>\n",
       "      <td>TOYOTA Corolla 1.3 16V HATCHB G6 2/3-Doors</td>\n",
       "      <td>7500</td>\n",
       "      <td>69</td>\n",
       "      <td>12</td>\n",
       "      <td>1998</td>\n",
       "      <td>20544</td>\n",
       "      <td>Petrol</td>\n",
       "      <td>86</td>\n",
       "      <td>1</td>\n",
       "      <td>...</td>\n",
       "      <td>1</td>\n",
       "      <td>1</td>\n",
       "      <td>1</td>\n",
       "      <td>0</td>\n",
       "      <td>1</td>\n",
       "      <td>1</td>\n",
       "      <td>1</td>\n",
       "      <td>0</td>\n",
       "      <td>0</td>\n",
       "      <td>0</td>\n",
       "    </tr>\n",
       "    <tr>\n",
       "      <th>1432</th>\n",
       "      <td>1439</td>\n",
       "      <td>TOYOTA Corolla 1.3 16V HATCHB LINEA TERRA 2/3-...</td>\n",
       "      <td>10845</td>\n",
       "      <td>72</td>\n",
       "      <td>9</td>\n",
       "      <td>1998</td>\n",
       "      <td>19000</td>\n",
       "      <td>Petrol</td>\n",
       "      <td>86</td>\n",
       "      <td>0</td>\n",
       "      <td>...</td>\n",
       "      <td>0</td>\n",
       "      <td>0</td>\n",
       "      <td>1</td>\n",
       "      <td>0</td>\n",
       "      <td>0</td>\n",
       "      <td>1</td>\n",
       "      <td>1</td>\n",
       "      <td>0</td>\n",
       "      <td>0</td>\n",
       "      <td>0</td>\n",
       "    </tr>\n",
       "    <tr>\n",
       "      <th>1433</th>\n",
       "      <td>1440</td>\n",
       "      <td>TOYOTA Corolla 1.3 16V HATCHB LINEA TERRA 2/3-...</td>\n",
       "      <td>8500</td>\n",
       "      <td>71</td>\n",
       "      <td>10</td>\n",
       "      <td>1998</td>\n",
       "      <td>17016</td>\n",
       "      <td>Petrol</td>\n",
       "      <td>86</td>\n",
       "      <td>0</td>\n",
       "      <td>...</td>\n",
       "      <td>0</td>\n",
       "      <td>0</td>\n",
       "      <td>1</td>\n",
       "      <td>0</td>\n",
       "      <td>0</td>\n",
       "      <td>0</td>\n",
       "      <td>1</td>\n",
       "      <td>0</td>\n",
       "      <td>0</td>\n",
       "      <td>0</td>\n",
       "    </tr>\n",
       "    <tr>\n",
       "      <th>1434</th>\n",
       "      <td>1441</td>\n",
       "      <td>TOYOTA Corolla 1.3 16V HATCHB LINEA TERRA 2/3-...</td>\n",
       "      <td>7250</td>\n",
       "      <td>70</td>\n",
       "      <td>11</td>\n",
       "      <td>1998</td>\n",
       "      <td>16916</td>\n",
       "      <td>Petrol</td>\n",
       "      <td>86</td>\n",
       "      <td>1</td>\n",
       "      <td>...</td>\n",
       "      <td>0</td>\n",
       "      <td>0</td>\n",
       "      <td>0</td>\n",
       "      <td>0</td>\n",
       "      <td>0</td>\n",
       "      <td>0</td>\n",
       "      <td>1</td>\n",
       "      <td>0</td>\n",
       "      <td>0</td>\n",
       "      <td>0</td>\n",
       "    </tr>\n",
       "    <tr>\n",
       "      <th>1435</th>\n",
       "      <td>1442</td>\n",
       "      <td>TOYOTA Corolla 1.6 LB LINEA TERRA 4/5-Doors</td>\n",
       "      <td>6950</td>\n",
       "      <td>76</td>\n",
       "      <td>5</td>\n",
       "      <td>1998</td>\n",
       "      <td>1</td>\n",
       "      <td>Petrol</td>\n",
       "      <td>110</td>\n",
       "      <td>0</td>\n",
       "      <td>...</td>\n",
       "      <td>0</td>\n",
       "      <td>0</td>\n",
       "      <td>1</td>\n",
       "      <td>0</td>\n",
       "      <td>0</td>\n",
       "      <td>0</td>\n",
       "      <td>0</td>\n",
       "      <td>0</td>\n",
       "      <td>0</td>\n",
       "      <td>0</td>\n",
       "    </tr>\n",
       "  </tbody>\n",
       "</table>\n",
       "<p>1435 rows × 38 columns</p>\n",
       "</div>"
      ],
      "text/plain": [
       "        Id                                              Model  Price  \\\n",
       "0        1      TOYOTA Corolla 2.0 D4D HATCHB TERRA 2/3-Doors  13500   \n",
       "1        2      TOYOTA Corolla 2.0 D4D HATCHB TERRA 2/3-Doors  13750   \n",
       "2        3      TOYOTA Corolla 2.0 D4D HATCHB TERRA 2/3-Doors  13950   \n",
       "3        4      TOYOTA Corolla 2.0 D4D HATCHB TERRA 2/3-Doors  14950   \n",
       "4        5        TOYOTA Corolla 2.0 D4D HATCHB SOL 2/3-Doors  13750   \n",
       "...    ...                                                ...    ...   \n",
       "1431  1438         TOYOTA Corolla 1.3 16V HATCHB G6 2/3-Doors   7500   \n",
       "1432  1439  TOYOTA Corolla 1.3 16V HATCHB LINEA TERRA 2/3-...  10845   \n",
       "1433  1440  TOYOTA Corolla 1.3 16V HATCHB LINEA TERRA 2/3-...   8500   \n",
       "1434  1441  TOYOTA Corolla 1.3 16V HATCHB LINEA TERRA 2/3-...   7250   \n",
       "1435  1442        TOYOTA Corolla 1.6 LB LINEA TERRA 4/5-Doors   6950   \n",
       "\n",
       "      Age_08_04  Mfg_Month  Mfg_Year     KM Fuel_Type   HP  Met_Color  ...  \\\n",
       "0            23         10      2002  46986    Diesel   90          1  ...   \n",
       "1            23         10      2002  72937    Diesel   90          1  ...   \n",
       "2            24          9      2002  41711    Diesel   90          1  ...   \n",
       "3            26          7      2002  48000    Diesel   90          0  ...   \n",
       "4            30          3      2002  38500    Diesel   90          0  ...   \n",
       "...         ...        ...       ...    ...       ...  ...        ...  ...   \n",
       "1431         69         12      1998  20544    Petrol   86          1  ...   \n",
       "1432         72          9      1998  19000    Petrol   86          0  ...   \n",
       "1433         71         10      1998  17016    Petrol   86          0  ...   \n",
       "1434         70         11      1998  16916    Petrol   86          1  ...   \n",
       "1435         76          5      1998      1    Petrol  110          0  ...   \n",
       "\n",
       "     Central_Lock  Powered_Windows  Power_Steering  Radio  Mistlamps  \\\n",
       "0               1                1               1      0          0   \n",
       "1               1                0               1      0          0   \n",
       "2               0                0               1      0          0   \n",
       "3               0                0               1      0          0   \n",
       "4               1                1               1      0          1   \n",
       "...           ...              ...             ...    ...        ...   \n",
       "1431            1                1               1      0          1   \n",
       "1432            0                0               1      0          0   \n",
       "1433            0                0               1      0          0   \n",
       "1434            0                0               0      0          0   \n",
       "1435            0                0               1      0          0   \n",
       "\n",
       "      Sport_Model  Backseat_Divider  Metallic_Rim  Radio_cassette  Tow_Bar  \n",
       "0               0                 1             0               0        0  \n",
       "1               0                 1             0               0        0  \n",
       "2               0                 1             0               0        0  \n",
       "3               0                 1             0               0        0  \n",
       "4               0                 1             0               0        0  \n",
       "...           ...               ...           ...             ...      ...  \n",
       "1431            1                 1             0               0        0  \n",
       "1432            1                 1             0               0        0  \n",
       "1433            0                 1             0               0        0  \n",
       "1434            0                 1             0               0        0  \n",
       "1435            0                 0             0               0        0  \n",
       "\n",
       "[1435 rows x 38 columns]"
      ]
     },
     "execution_count": 116,
     "metadata": {},
     "output_type": "execute_result"
    }
   ],
   "source": [
    "data=data.drop(data.index[[113]])\n",
    "data"
   ]
  },
  {
   "cell_type": "markdown",
   "id": "e7c2a512",
   "metadata": {},
   "source": [
    "#### The row which was a duplicate has been removed"
   ]
  },
  {
   "cell_type": "markdown",
   "id": "cb31b1db",
   "metadata": {},
   "source": [
    "### 3.4) CHARACTERISTICS OF DATA"
   ]
  },
  {
   "cell_type": "code",
   "execution_count": 117,
   "id": "86be7304",
   "metadata": {},
   "outputs": [
    {
     "name": "stdout",
     "output_type": "stream",
     "text": [
      "<class 'pandas.core.frame.DataFrame'>\n",
      "Index: 1435 entries, 0 to 1435\n",
      "Data columns (total 38 columns):\n",
      " #   Column            Non-Null Count  Dtype \n",
      "---  ------            --------------  ----- \n",
      " 0   Id                1435 non-null   int64 \n",
      " 1   Model             1435 non-null   object\n",
      " 2   Price             1435 non-null   int64 \n",
      " 3   Age_08_04         1435 non-null   int64 \n",
      " 4   Mfg_Month         1435 non-null   int64 \n",
      " 5   Mfg_Year          1435 non-null   int64 \n",
      " 6   KM                1435 non-null   int64 \n",
      " 7   Fuel_Type         1435 non-null   object\n",
      " 8   HP                1435 non-null   int64 \n",
      " 9   Met_Color         1435 non-null   int64 \n",
      " 10  Color             1435 non-null   object\n",
      " 11  Automatic         1435 non-null   int64 \n",
      " 12  CC                1435 non-null   int64 \n",
      " 13  Doors             1435 non-null   int64 \n",
      " 14  Cylinders         1435 non-null   int64 \n",
      " 15  Gears             1435 non-null   int64 \n",
      " 16  Quarterly_Tax     1435 non-null   int64 \n",
      " 17  Weight            1435 non-null   int64 \n",
      " 18  Mfg_Guarantee     1435 non-null   int64 \n",
      " 19  BOVAG_Guarantee   1435 non-null   int64 \n",
      " 20  Guarantee_Period  1435 non-null   int64 \n",
      " 21  ABS               1435 non-null   int64 \n",
      " 22  Airbag_1          1435 non-null   int64 \n",
      " 23  Airbag_2          1435 non-null   int64 \n",
      " 24  Airco             1435 non-null   int64 \n",
      " 25  Automatic_airco   1435 non-null   int64 \n",
      " 26  Boardcomputer     1435 non-null   int64 \n",
      " 27  CD_Player         1435 non-null   int64 \n",
      " 28  Central_Lock      1435 non-null   int64 \n",
      " 29  Powered_Windows   1435 non-null   int64 \n",
      " 30  Power_Steering    1435 non-null   int64 \n",
      " 31  Radio             1435 non-null   int64 \n",
      " 32  Mistlamps         1435 non-null   int64 \n",
      " 33  Sport_Model       1435 non-null   int64 \n",
      " 34  Backseat_Divider  1435 non-null   int64 \n",
      " 35  Metallic_Rim      1435 non-null   int64 \n",
      " 36  Radio_cassette    1435 non-null   int64 \n",
      " 37  Tow_Bar           1435 non-null   int64 \n",
      "dtypes: int64(35), object(3)\n",
      "memory usage: 437.2+ KB\n"
     ]
    }
   ],
   "source": [
    "data.info()"
   ]
  },
  {
   "cell_type": "code",
   "execution_count": 118,
   "id": "47e802df",
   "metadata": {},
   "outputs": [
    {
     "data": {
      "text/html": [
       "<div>\n",
       "<style scoped>\n",
       "    .dataframe tbody tr th:only-of-type {\n",
       "        vertical-align: middle;\n",
       "    }\n",
       "\n",
       "    .dataframe tbody tr th {\n",
       "        vertical-align: top;\n",
       "    }\n",
       "\n",
       "    .dataframe thead th {\n",
       "        text-align: right;\n",
       "    }\n",
       "</style>\n",
       "<table border=\"1\" class=\"dataframe\">\n",
       "  <thead>\n",
       "    <tr style=\"text-align: right;\">\n",
       "      <th></th>\n",
       "      <th>Id</th>\n",
       "      <th>Price</th>\n",
       "      <th>Age_08_04</th>\n",
       "      <th>Mfg_Month</th>\n",
       "      <th>Mfg_Year</th>\n",
       "      <th>KM</th>\n",
       "      <th>HP</th>\n",
       "      <th>Met_Color</th>\n",
       "      <th>Automatic</th>\n",
       "      <th>CC</th>\n",
       "      <th>...</th>\n",
       "      <th>Central_Lock</th>\n",
       "      <th>Powered_Windows</th>\n",
       "      <th>Power_Steering</th>\n",
       "      <th>Radio</th>\n",
       "      <th>Mistlamps</th>\n",
       "      <th>Sport_Model</th>\n",
       "      <th>Backseat_Divider</th>\n",
       "      <th>Metallic_Rim</th>\n",
       "      <th>Radio_cassette</th>\n",
       "      <th>Tow_Bar</th>\n",
       "    </tr>\n",
       "  </thead>\n",
       "  <tbody>\n",
       "    <tr>\n",
       "      <th>count</th>\n",
       "      <td>1435.000000</td>\n",
       "      <td>1435.000000</td>\n",
       "      <td>1435.000000</td>\n",
       "      <td>1435.000000</td>\n",
       "      <td>1435.00000</td>\n",
       "      <td>1435.000000</td>\n",
       "      <td>1435.000000</td>\n",
       "      <td>1435.000000</td>\n",
       "      <td>1435.000000</td>\n",
       "      <td>1435.000000</td>\n",
       "      <td>...</td>\n",
       "      <td>1435.000000</td>\n",
       "      <td>1435.000000</td>\n",
       "      <td>1435.000000</td>\n",
       "      <td>1435.000000</td>\n",
       "      <td>1435.000000</td>\n",
       "      <td>1435.000000</td>\n",
       "      <td>1435.000000</td>\n",
       "      <td>1435.000000</td>\n",
       "      <td>1435.000000</td>\n",
       "      <td>1435.000000</td>\n",
       "    </tr>\n",
       "    <tr>\n",
       "      <th>mean</th>\n",
       "      <td>721.977700</td>\n",
       "      <td>10720.915679</td>\n",
       "      <td>55.980488</td>\n",
       "      <td>5.551916</td>\n",
       "      <td>1999.62230</td>\n",
       "      <td>68571.782578</td>\n",
       "      <td>101.491986</td>\n",
       "      <td>0.674564</td>\n",
       "      <td>0.055749</td>\n",
       "      <td>1576.560976</td>\n",
       "      <td>...</td>\n",
       "      <td>0.579791</td>\n",
       "      <td>0.561672</td>\n",
       "      <td>0.977700</td>\n",
       "      <td>0.146341</td>\n",
       "      <td>0.257143</td>\n",
       "      <td>0.300348</td>\n",
       "      <td>0.770732</td>\n",
       "      <td>0.204878</td>\n",
       "      <td>0.145645</td>\n",
       "      <td>0.278049</td>\n",
       "    </tr>\n",
       "    <tr>\n",
       "      <th>std</th>\n",
       "      <td>416.313844</td>\n",
       "      <td>3608.732978</td>\n",
       "      <td>18.563312</td>\n",
       "      <td>3.353102</td>\n",
       "      <td>1.53692</td>\n",
       "      <td>37491.094553</td>\n",
       "      <td>14.981408</td>\n",
       "      <td>0.468701</td>\n",
       "      <td>0.229517</td>\n",
       "      <td>424.387533</td>\n",
       "      <td>...</td>\n",
       "      <td>0.493764</td>\n",
       "      <td>0.496355</td>\n",
       "      <td>0.147708</td>\n",
       "      <td>0.353571</td>\n",
       "      <td>0.437211</td>\n",
       "      <td>0.458569</td>\n",
       "      <td>0.420509</td>\n",
       "      <td>0.403753</td>\n",
       "      <td>0.352873</td>\n",
       "      <td>0.448194</td>\n",
       "    </tr>\n",
       "    <tr>\n",
       "      <th>min</th>\n",
       "      <td>1.000000</td>\n",
       "      <td>4350.000000</td>\n",
       "      <td>1.000000</td>\n",
       "      <td>1.000000</td>\n",
       "      <td>1998.00000</td>\n",
       "      <td>1.000000</td>\n",
       "      <td>69.000000</td>\n",
       "      <td>0.000000</td>\n",
       "      <td>0.000000</td>\n",
       "      <td>1300.000000</td>\n",
       "      <td>...</td>\n",
       "      <td>0.000000</td>\n",
       "      <td>0.000000</td>\n",
       "      <td>0.000000</td>\n",
       "      <td>0.000000</td>\n",
       "      <td>0.000000</td>\n",
       "      <td>0.000000</td>\n",
       "      <td>0.000000</td>\n",
       "      <td>0.000000</td>\n",
       "      <td>0.000000</td>\n",
       "      <td>0.000000</td>\n",
       "    </tr>\n",
       "    <tr>\n",
       "      <th>25%</th>\n",
       "      <td>362.500000</td>\n",
       "      <td>8450.000000</td>\n",
       "      <td>44.000000</td>\n",
       "      <td>3.000000</td>\n",
       "      <td>1998.00000</td>\n",
       "      <td>43000.000000</td>\n",
       "      <td>90.000000</td>\n",
       "      <td>0.000000</td>\n",
       "      <td>0.000000</td>\n",
       "      <td>1400.000000</td>\n",
       "      <td>...</td>\n",
       "      <td>0.000000</td>\n",
       "      <td>0.000000</td>\n",
       "      <td>1.000000</td>\n",
       "      <td>0.000000</td>\n",
       "      <td>0.000000</td>\n",
       "      <td>0.000000</td>\n",
       "      <td>1.000000</td>\n",
       "      <td>0.000000</td>\n",
       "      <td>0.000000</td>\n",
       "      <td>0.000000</td>\n",
       "    </tr>\n",
       "    <tr>\n",
       "      <th>50%</th>\n",
       "      <td>722.000000</td>\n",
       "      <td>9900.000000</td>\n",
       "      <td>61.000000</td>\n",
       "      <td>5.000000</td>\n",
       "      <td>1999.00000</td>\n",
       "      <td>63451.000000</td>\n",
       "      <td>110.000000</td>\n",
       "      <td>1.000000</td>\n",
       "      <td>0.000000</td>\n",
       "      <td>1600.000000</td>\n",
       "      <td>...</td>\n",
       "      <td>1.000000</td>\n",
       "      <td>1.000000</td>\n",
       "      <td>1.000000</td>\n",
       "      <td>0.000000</td>\n",
       "      <td>0.000000</td>\n",
       "      <td>0.000000</td>\n",
       "      <td>1.000000</td>\n",
       "      <td>0.000000</td>\n",
       "      <td>0.000000</td>\n",
       "      <td>0.000000</td>\n",
       "    </tr>\n",
       "    <tr>\n",
       "      <th>75%</th>\n",
       "      <td>1081.500000</td>\n",
       "      <td>11950.000000</td>\n",
       "      <td>70.000000</td>\n",
       "      <td>8.000000</td>\n",
       "      <td>2001.00000</td>\n",
       "      <td>87041.500000</td>\n",
       "      <td>110.000000</td>\n",
       "      <td>1.000000</td>\n",
       "      <td>0.000000</td>\n",
       "      <td>1600.000000</td>\n",
       "      <td>...</td>\n",
       "      <td>1.000000</td>\n",
       "      <td>1.000000</td>\n",
       "      <td>1.000000</td>\n",
       "      <td>0.000000</td>\n",
       "      <td>1.000000</td>\n",
       "      <td>1.000000</td>\n",
       "      <td>1.000000</td>\n",
       "      <td>0.000000</td>\n",
       "      <td>0.000000</td>\n",
       "      <td>1.000000</td>\n",
       "    </tr>\n",
       "    <tr>\n",
       "      <th>max</th>\n",
       "      <td>1442.000000</td>\n",
       "      <td>32500.000000</td>\n",
       "      <td>80.000000</td>\n",
       "      <td>12.000000</td>\n",
       "      <td>2004.00000</td>\n",
       "      <td>243000.000000</td>\n",
       "      <td>192.000000</td>\n",
       "      <td>1.000000</td>\n",
       "      <td>1.000000</td>\n",
       "      <td>16000.000000</td>\n",
       "      <td>...</td>\n",
       "      <td>1.000000</td>\n",
       "      <td>1.000000</td>\n",
       "      <td>1.000000</td>\n",
       "      <td>1.000000</td>\n",
       "      <td>1.000000</td>\n",
       "      <td>1.000000</td>\n",
       "      <td>1.000000</td>\n",
       "      <td>1.000000</td>\n",
       "      <td>1.000000</td>\n",
       "      <td>1.000000</td>\n",
       "    </tr>\n",
       "  </tbody>\n",
       "</table>\n",
       "<p>8 rows × 35 columns</p>\n",
       "</div>"
      ],
      "text/plain": [
       "                Id         Price    Age_08_04    Mfg_Month    Mfg_Year  \\\n",
       "count  1435.000000   1435.000000  1435.000000  1435.000000  1435.00000   \n",
       "mean    721.977700  10720.915679    55.980488     5.551916  1999.62230   \n",
       "std     416.313844   3608.732978    18.563312     3.353102     1.53692   \n",
       "min       1.000000   4350.000000     1.000000     1.000000  1998.00000   \n",
       "25%     362.500000   8450.000000    44.000000     3.000000  1998.00000   \n",
       "50%     722.000000   9900.000000    61.000000     5.000000  1999.00000   \n",
       "75%    1081.500000  11950.000000    70.000000     8.000000  2001.00000   \n",
       "max    1442.000000  32500.000000    80.000000    12.000000  2004.00000   \n",
       "\n",
       "                  KM           HP    Met_Color    Automatic            CC  \\\n",
       "count    1435.000000  1435.000000  1435.000000  1435.000000   1435.000000   \n",
       "mean    68571.782578   101.491986     0.674564     0.055749   1576.560976   \n",
       "std     37491.094553    14.981408     0.468701     0.229517    424.387533   \n",
       "min         1.000000    69.000000     0.000000     0.000000   1300.000000   \n",
       "25%     43000.000000    90.000000     0.000000     0.000000   1400.000000   \n",
       "50%     63451.000000   110.000000     1.000000     0.000000   1600.000000   \n",
       "75%     87041.500000   110.000000     1.000000     0.000000   1600.000000   \n",
       "max    243000.000000   192.000000     1.000000     1.000000  16000.000000   \n",
       "\n",
       "       ...  Central_Lock  Powered_Windows  Power_Steering        Radio  \\\n",
       "count  ...   1435.000000      1435.000000     1435.000000  1435.000000   \n",
       "mean   ...      0.579791         0.561672        0.977700     0.146341   \n",
       "std    ...      0.493764         0.496355        0.147708     0.353571   \n",
       "min    ...      0.000000         0.000000        0.000000     0.000000   \n",
       "25%    ...      0.000000         0.000000        1.000000     0.000000   \n",
       "50%    ...      1.000000         1.000000        1.000000     0.000000   \n",
       "75%    ...      1.000000         1.000000        1.000000     0.000000   \n",
       "max    ...      1.000000         1.000000        1.000000     1.000000   \n",
       "\n",
       "         Mistlamps  Sport_Model  Backseat_Divider  Metallic_Rim  \\\n",
       "count  1435.000000  1435.000000       1435.000000   1435.000000   \n",
       "mean      0.257143     0.300348          0.770732      0.204878   \n",
       "std       0.437211     0.458569          0.420509      0.403753   \n",
       "min       0.000000     0.000000          0.000000      0.000000   \n",
       "25%       0.000000     0.000000          1.000000      0.000000   \n",
       "50%       0.000000     0.000000          1.000000      0.000000   \n",
       "75%       1.000000     1.000000          1.000000      0.000000   \n",
       "max       1.000000     1.000000          1.000000      1.000000   \n",
       "\n",
       "       Radio_cassette      Tow_Bar  \n",
       "count     1435.000000  1435.000000  \n",
       "mean         0.145645     0.278049  \n",
       "std          0.352873     0.448194  \n",
       "min          0.000000     0.000000  \n",
       "25%          0.000000     0.000000  \n",
       "50%          0.000000     0.000000  \n",
       "75%          0.000000     1.000000  \n",
       "max          1.000000     1.000000  \n",
       "\n",
       "[8 rows x 35 columns]"
      ]
     },
     "execution_count": 118,
     "metadata": {},
     "output_type": "execute_result"
    }
   ],
   "source": [
    "data.describe()"
   ]
  },
  {
   "cell_type": "markdown",
   "id": "976c5d18",
   "metadata": {},
   "source": [
    "### 3.5) MISSING VALUES CHECK"
   ]
  },
  {
   "cell_type": "code",
   "execution_count": 119,
   "id": "49643b98",
   "metadata": {},
   "outputs": [
    {
     "data": {
      "text/plain": [
       "Id                  False\n",
       "Model               False\n",
       "Price               False\n",
       "Age_08_04           False\n",
       "Mfg_Month           False\n",
       "Mfg_Year            False\n",
       "KM                  False\n",
       "Fuel_Type           False\n",
       "HP                  False\n",
       "Met_Color           False\n",
       "Color               False\n",
       "Automatic           False\n",
       "CC                  False\n",
       "Doors               False\n",
       "Cylinders           False\n",
       "Gears               False\n",
       "Quarterly_Tax       False\n",
       "Weight              False\n",
       "Mfg_Guarantee       False\n",
       "BOVAG_Guarantee     False\n",
       "Guarantee_Period    False\n",
       "ABS                 False\n",
       "Airbag_1            False\n",
       "Airbag_2            False\n",
       "Airco               False\n",
       "Automatic_airco     False\n",
       "Boardcomputer       False\n",
       "CD_Player           False\n",
       "Central_Lock        False\n",
       "Powered_Windows     False\n",
       "Power_Steering      False\n",
       "Radio               False\n",
       "Mistlamps           False\n",
       "Sport_Model         False\n",
       "Backseat_Divider    False\n",
       "Metallic_Rim        False\n",
       "Radio_cassette      False\n",
       "Tow_Bar             False\n",
       "dtype: bool"
      ]
     },
     "execution_count": 119,
     "metadata": {},
     "output_type": "execute_result"
    }
   ],
   "source": [
    "data.isnull().any()"
   ]
  },
  {
   "cell_type": "markdown",
   "id": "ab1e7122",
   "metadata": {},
   "source": [
    "#### No missing values found"
   ]
  },
  {
   "cell_type": "markdown",
   "id": "64f2865c",
   "metadata": {},
   "source": [
    "### 3.6) UNIQUE VALUES CHECK"
   ]
  },
  {
   "cell_type": "code",
   "execution_count": 120,
   "id": "3901b13c",
   "metadata": {},
   "outputs": [
    {
     "data": {
      "text/plain": [
       "Id                  1435\n",
       "Model                371\n",
       "Price                236\n",
       "Age_08_04             77\n",
       "Mfg_Month             12\n",
       "Mfg_Year               7\n",
       "KM                  1263\n",
       "Fuel_Type              3\n",
       "HP                    12\n",
       "Met_Color              2\n",
       "Color                 10\n",
       "Automatic              2\n",
       "CC                    13\n",
       "Doors                  4\n",
       "Cylinders              1\n",
       "Gears                  4\n",
       "Quarterly_Tax         13\n",
       "Weight                59\n",
       "Mfg_Guarantee          2\n",
       "BOVAG_Guarantee        2\n",
       "Guarantee_Period       9\n",
       "ABS                    2\n",
       "Airbag_1               2\n",
       "Airbag_2               2\n",
       "Airco                  2\n",
       "Automatic_airco        2\n",
       "Boardcomputer          2\n",
       "CD_Player              2\n",
       "Central_Lock           2\n",
       "Powered_Windows        2\n",
       "Power_Steering         2\n",
       "Radio                  2\n",
       "Mistlamps              2\n",
       "Sport_Model            2\n",
       "Backseat_Divider       2\n",
       "Metallic_Rim           2\n",
       "Radio_cassette         2\n",
       "Tow_Bar                2\n",
       "dtype: int64"
      ]
     },
     "execution_count": 120,
     "metadata": {},
     "output_type": "execute_result"
    }
   ],
   "source": [
    "data.nunique()"
   ]
  },
  {
   "cell_type": "markdown",
   "id": "db5c4b0f",
   "metadata": {},
   "source": [
    "### 3.7) TRANSFORMATION OF CATEGORICAL VARIABLES"
   ]
  },
  {
   "cell_type": "markdown",
   "id": "5b79f72d",
   "metadata": {},
   "source": [
    "#### We will transform the below categorical variables by one hot encoding"
   ]
  },
  {
   "cell_type": "markdown",
   "id": "d4cff779",
   "metadata": {},
   "source": [
    "### 3.7.1) Fuel_Type"
   ]
  },
  {
   "cell_type": "code",
   "execution_count": 121,
   "id": "5ea6152d",
   "metadata": {},
   "outputs": [
    {
     "data": {
      "text/plain": [
       "array(['Diesel', 'Petrol', 'CNG'], dtype=object)"
      ]
     },
     "execution_count": 121,
     "metadata": {},
     "output_type": "execute_result"
    }
   ],
   "source": [
    "data['Fuel_Type'].unique()"
   ]
  },
  {
   "cell_type": "code",
   "execution_count": 122,
   "id": "0da52f9e",
   "metadata": {},
   "outputs": [],
   "source": [
    "one_hot = pd.get_dummies(data['Fuel_Type'])\n",
    "data = data.drop('Fuel_Type',axis = 1)\n",
    "data = data.join(one_hot)"
   ]
  },
  {
   "cell_type": "markdown",
   "id": "7b167f6e",
   "metadata": {},
   "source": [
    "### 3.7.2) Color"
   ]
  },
  {
   "cell_type": "code",
   "execution_count": 123,
   "id": "13644a34",
   "metadata": {},
   "outputs": [
    {
     "data": {
      "text/plain": [
       "array(['Blue', 'Silver', 'Black', 'White', 'Grey', 'Red', 'Green',\n",
       "       'Yellow', 'Violet', 'Beige'], dtype=object)"
      ]
     },
     "execution_count": 123,
     "metadata": {},
     "output_type": "execute_result"
    }
   ],
   "source": [
    "data['Color'].unique()"
   ]
  },
  {
   "cell_type": "code",
   "execution_count": 124,
   "id": "10882522",
   "metadata": {},
   "outputs": [],
   "source": [
    "one_hot = pd.get_dummies(data['Color'])\n",
    "data = data.drop('Color',axis = 1)\n",
    "data = data.join(one_hot)"
   ]
  },
  {
   "cell_type": "markdown",
   "id": "c6f0fe46",
   "metadata": {},
   "source": [
    "### 3.7.3) Mfg_Year"
   ]
  },
  {
   "cell_type": "code",
   "execution_count": 125,
   "id": "f278a01a",
   "metadata": {},
   "outputs": [
    {
     "data": {
      "text/plain": [
       "array([2002, 2003, 2004, 2001, 2000, 1999, 1998], dtype=int64)"
      ]
     },
     "execution_count": 125,
     "metadata": {},
     "output_type": "execute_result"
    }
   ],
   "source": [
    "data['Mfg_Year'].unique()"
   ]
  },
  {
   "cell_type": "code",
   "execution_count": 126,
   "id": "c1e2061a",
   "metadata": {},
   "outputs": [],
   "source": [
    "one_hot = pd.get_dummies(data['Mfg_Year'])\n",
    "data = data.drop('Mfg_Year',axis = 1)\n",
    "data = data.join(one_hot)"
   ]
  },
  {
   "cell_type": "markdown",
   "id": "9509d8f9",
   "metadata": {},
   "source": [
    "#### Replacing True and False with 1 and O and converting them to int64"
   ]
  },
  {
   "cell_type": "code",
   "execution_count": 127,
   "id": "f1e978f7",
   "metadata": {},
   "outputs": [
    {
     "data": {
      "text/plain": [
       "Index([              'Id',            'Model',            'Price',\n",
       "              'Age_08_04',        'Mfg_Month',               'KM',\n",
       "                     'HP',        'Met_Color',        'Automatic',\n",
       "                     'CC',            'Doors',        'Cylinders',\n",
       "                  'Gears',    'Quarterly_Tax',           'Weight',\n",
       "          'Mfg_Guarantee',  'BOVAG_Guarantee', 'Guarantee_Period',\n",
       "                    'ABS',         'Airbag_1',         'Airbag_2',\n",
       "                  'Airco',  'Automatic_airco',    'Boardcomputer',\n",
       "              'CD_Player',     'Central_Lock',  'Powered_Windows',\n",
       "         'Power_Steering',            'Radio',        'Mistlamps',\n",
       "            'Sport_Model', 'Backseat_Divider',     'Metallic_Rim',\n",
       "         'Radio_cassette',          'Tow_Bar',              'CNG',\n",
       "                 'Diesel',           'Petrol',            'Beige',\n",
       "                  'Black',             'Blue',            'Green',\n",
       "                   'Grey',              'Red',           'Silver',\n",
       "                 'Violet',            'White',           'Yellow',\n",
       "                     1998,               1999,               2000,\n",
       "                     2001,               2002,               2003,\n",
       "                     2004],\n",
       "      dtype='object')"
      ]
     },
     "execution_count": 127,
     "metadata": {},
     "output_type": "execute_result"
    }
   ],
   "source": [
    "data.columns"
   ]
  },
  {
   "cell_type": "code",
   "execution_count": 128,
   "id": "28f48bae",
   "metadata": {},
   "outputs": [],
   "source": [
    "columns_to_transform = ['Diesel','Petrol','CNG',2002,2003,2004,2001,2000,1999,1998,\n",
    "'Blue','Silver','Black','White','Grey','Red','Green','Yellow','Violet','Beige']\n",
    "data[columns_to_transform] = data[columns_to_transform].replace({True: 1, False: 0})\n",
    "data[columns_to_transform] = data[columns_to_transform].astype('int64')\n"
   ]
  },
  {
   "cell_type": "code",
   "execution_count": 129,
   "id": "8ba57e1a",
   "metadata": {},
   "outputs": [
    {
     "data": {
      "text/plain": [
       "Diesel    int64\n",
       "Petrol    int64\n",
       "CNG       int64\n",
       "2002      int64\n",
       "2003      int64\n",
       "2004      int64\n",
       "2001      int64\n",
       "2000      int64\n",
       "1999      int64\n",
       "1998      int64\n",
       "Blue      int64\n",
       "Silver    int64\n",
       "Black     int64\n",
       "White     int64\n",
       "Grey      int64\n",
       "Red       int64\n",
       "Green     int64\n",
       "Yellow    int64\n",
       "Violet    int64\n",
       "Beige     int64\n",
       "dtype: object"
      ]
     },
     "execution_count": 129,
     "metadata": {},
     "output_type": "execute_result"
    }
   ],
   "source": [
    "data[columns_to_transform].dtypes"
   ]
  },
  {
   "cell_type": "code",
   "execution_count": 130,
   "id": "55a31afa",
   "metadata": {},
   "outputs": [],
   "source": [
    "data.columns = data.columns.astype(str)"
   ]
  },
  {
   "cell_type": "markdown",
   "id": "d55feca3",
   "metadata": {},
   "source": [
    "### STEP 4) VISUALIZATION AND FEATURE SELECTION"
   ]
  },
  {
   "cell_type": "markdown",
   "id": "55fdc626",
   "metadata": {},
   "source": [
    "#### Removing ID,Model and Cylinders since they won't have any effect on the Coorelation matrix"
   ]
  },
  {
   "cell_type": "code",
   "execution_count": 131,
   "id": "45cb0444",
   "metadata": {},
   "outputs": [],
   "source": [
    "data=data.drop(['Id','Model','Cylinders'],axis=1)"
   ]
  },
  {
   "cell_type": "code",
   "execution_count": 132,
   "id": "5f2de90e",
   "metadata": {},
   "outputs": [
    {
     "data": {
      "text/plain": [
       "(1435, 52)"
      ]
     },
     "execution_count": 132,
     "metadata": {},
     "output_type": "execute_result"
    }
   ],
   "source": [
    "data.shape"
   ]
  },
  {
   "cell_type": "markdown",
   "id": "0e50bacc",
   "metadata": {},
   "source": [
    "### 4.1)Pearson Coorelation Matrix for feature selection in numeric data "
   ]
  },
  {
   "cell_type": "markdown",
   "id": "ec32b718",
   "metadata": {},
   "source": [
    "#### Pearson method is used when the data is numeric"
   ]
  },
  {
   "cell_type": "markdown",
   "id": "7f066fad",
   "metadata": {},
   "source": [
    "#### Extracting Numerical features"
   ]
  },
  {
   "cell_type": "code",
   "execution_count": 133,
   "id": "5364d6da",
   "metadata": {},
   "outputs": [
    {
     "data": {
      "text/html": [
       "<div>\n",
       "<style scoped>\n",
       "    .dataframe tbody tr th:only-of-type {\n",
       "        vertical-align: middle;\n",
       "    }\n",
       "\n",
       "    .dataframe tbody tr th {\n",
       "        vertical-align: top;\n",
       "    }\n",
       "\n",
       "    .dataframe thead th {\n",
       "        text-align: right;\n",
       "    }\n",
       "</style>\n",
       "<table border=\"1\" class=\"dataframe\">\n",
       "  <thead>\n",
       "    <tr style=\"text-align: right;\">\n",
       "      <th></th>\n",
       "      <th>Price</th>\n",
       "      <th>Age_08_04</th>\n",
       "      <th>KM</th>\n",
       "      <th>HP</th>\n",
       "      <th>CC</th>\n",
       "      <th>Quarterly_Tax</th>\n",
       "      <th>Weight</th>\n",
       "      <th>Guarantee_Period</th>\n",
       "    </tr>\n",
       "  </thead>\n",
       "  <tbody>\n",
       "    <tr>\n",
       "      <th>0</th>\n",
       "      <td>13500</td>\n",
       "      <td>23</td>\n",
       "      <td>46986</td>\n",
       "      <td>90</td>\n",
       "      <td>2000</td>\n",
       "      <td>210</td>\n",
       "      <td>1165</td>\n",
       "      <td>3</td>\n",
       "    </tr>\n",
       "    <tr>\n",
       "      <th>1</th>\n",
       "      <td>13750</td>\n",
       "      <td>23</td>\n",
       "      <td>72937</td>\n",
       "      <td>90</td>\n",
       "      <td>2000</td>\n",
       "      <td>210</td>\n",
       "      <td>1165</td>\n",
       "      <td>3</td>\n",
       "    </tr>\n",
       "    <tr>\n",
       "      <th>2</th>\n",
       "      <td>13950</td>\n",
       "      <td>24</td>\n",
       "      <td>41711</td>\n",
       "      <td>90</td>\n",
       "      <td>2000</td>\n",
       "      <td>210</td>\n",
       "      <td>1165</td>\n",
       "      <td>3</td>\n",
       "    </tr>\n",
       "    <tr>\n",
       "      <th>3</th>\n",
       "      <td>14950</td>\n",
       "      <td>26</td>\n",
       "      <td>48000</td>\n",
       "      <td>90</td>\n",
       "      <td>2000</td>\n",
       "      <td>210</td>\n",
       "      <td>1165</td>\n",
       "      <td>3</td>\n",
       "    </tr>\n",
       "    <tr>\n",
       "      <th>4</th>\n",
       "      <td>13750</td>\n",
       "      <td>30</td>\n",
       "      <td>38500</td>\n",
       "      <td>90</td>\n",
       "      <td>2000</td>\n",
       "      <td>210</td>\n",
       "      <td>1170</td>\n",
       "      <td>3</td>\n",
       "    </tr>\n",
       "    <tr>\n",
       "      <th>...</th>\n",
       "      <td>...</td>\n",
       "      <td>...</td>\n",
       "      <td>...</td>\n",
       "      <td>...</td>\n",
       "      <td>...</td>\n",
       "      <td>...</td>\n",
       "      <td>...</td>\n",
       "      <td>...</td>\n",
       "    </tr>\n",
       "    <tr>\n",
       "      <th>1431</th>\n",
       "      <td>7500</td>\n",
       "      <td>69</td>\n",
       "      <td>20544</td>\n",
       "      <td>86</td>\n",
       "      <td>1300</td>\n",
       "      <td>69</td>\n",
       "      <td>1025</td>\n",
       "      <td>3</td>\n",
       "    </tr>\n",
       "    <tr>\n",
       "      <th>1432</th>\n",
       "      <td>10845</td>\n",
       "      <td>72</td>\n",
       "      <td>19000</td>\n",
       "      <td>86</td>\n",
       "      <td>1300</td>\n",
       "      <td>69</td>\n",
       "      <td>1015</td>\n",
       "      <td>3</td>\n",
       "    </tr>\n",
       "    <tr>\n",
       "      <th>1433</th>\n",
       "      <td>8500</td>\n",
       "      <td>71</td>\n",
       "      <td>17016</td>\n",
       "      <td>86</td>\n",
       "      <td>1300</td>\n",
       "      <td>69</td>\n",
       "      <td>1015</td>\n",
       "      <td>3</td>\n",
       "    </tr>\n",
       "    <tr>\n",
       "      <th>1434</th>\n",
       "      <td>7250</td>\n",
       "      <td>70</td>\n",
       "      <td>16916</td>\n",
       "      <td>86</td>\n",
       "      <td>1300</td>\n",
       "      <td>69</td>\n",
       "      <td>1015</td>\n",
       "      <td>3</td>\n",
       "    </tr>\n",
       "    <tr>\n",
       "      <th>1435</th>\n",
       "      <td>6950</td>\n",
       "      <td>76</td>\n",
       "      <td>1</td>\n",
       "      <td>110</td>\n",
       "      <td>1600</td>\n",
       "      <td>19</td>\n",
       "      <td>1114</td>\n",
       "      <td>3</td>\n",
       "    </tr>\n",
       "  </tbody>\n",
       "</table>\n",
       "<p>1435 rows × 8 columns</p>\n",
       "</div>"
      ],
      "text/plain": [
       "      Price  Age_08_04     KM   HP    CC  Quarterly_Tax  Weight  \\\n",
       "0     13500         23  46986   90  2000            210    1165   \n",
       "1     13750         23  72937   90  2000            210    1165   \n",
       "2     13950         24  41711   90  2000            210    1165   \n",
       "3     14950         26  48000   90  2000            210    1165   \n",
       "4     13750         30  38500   90  2000            210    1170   \n",
       "...     ...        ...    ...  ...   ...            ...     ...   \n",
       "1431   7500         69  20544   86  1300             69    1025   \n",
       "1432  10845         72  19000   86  1300             69    1015   \n",
       "1433   8500         71  17016   86  1300             69    1015   \n",
       "1434   7250         70  16916   86  1300             69    1015   \n",
       "1435   6950         76      1  110  1600             19    1114   \n",
       "\n",
       "      Guarantee_Period  \n",
       "0                    3  \n",
       "1                    3  \n",
       "2                    3  \n",
       "3                    3  \n",
       "4                    3  \n",
       "...                ...  \n",
       "1431                 3  \n",
       "1432                 3  \n",
       "1433                 3  \n",
       "1434                 3  \n",
       "1435                 3  \n",
       "\n",
       "[1435 rows x 8 columns]"
      ]
     },
     "execution_count": 133,
     "metadata": {},
     "output_type": "execute_result"
    }
   ],
   "source": [
    "data1=data[[\"Price\",\"Age_08_04\",\"KM\",\"HP\",\"CC\",\"Quarterly_Tax\",\"Weight\",\"Guarantee_Period\"]]\n",
    "data1"
   ]
  },
  {
   "cell_type": "code",
   "execution_count": 134,
   "id": "ece9942a",
   "metadata": {},
   "outputs": [
    {
     "data": {
      "text/plain": [
       "<Axes: >"
      ]
     },
     "execution_count": 134,
     "metadata": {},
     "output_type": "execute_result"
    },
    {
     "data": {
      "image/png": "[encoded data removed]",
      "text/plain": [
       "<Figure size 1000x1000 with 2 Axes>"
      ]
     },
     "metadata": {},
     "output_type": "display_data"
    }
   ],
   "source": [
    "fig, ax = plt.subplots(figsize=(10,10))  \n",
    "sns.heatmap(data1.corr(method ='pearson'),annot=True)"
   ]
  },
  {
   "cell_type": "markdown",
   "id": "f5cad46b",
   "metadata": {},
   "source": [
    "#### Selecting Features with having Coorelation greater than absolute(0.5) with Price "
   ]
  },
  {
   "cell_type": "code",
   "execution_count": 135,
   "id": "e9fdd41f",
   "metadata": {},
   "outputs": [
    {
     "data": {
      "text/plain": [
       "Price        1.000000\n",
       "Age_08_04    0.876273\n",
       "KM           0.569420\n",
       "Weight       0.575869\n",
       "Name: Price, dtype: float64"
      ]
     },
     "execution_count": 135,
     "metadata": {},
     "output_type": "execute_result"
    }
   ],
   "source": [
    "#Correlation with output variable\n",
    "cor = data1.corr()\n",
    "cor_target = abs(cor[\"Price\"])\n",
    "#Selecting highly correlated features\n",
    "relevant_features = cor_target[cor_target>0.5]\n",
    "relevant_features"
   ]
  },
  {
   "cell_type": "markdown",
   "id": "bf80937f",
   "metadata": {},
   "source": [
    "#### Checking coorelation between the selected features so that if it's above 0.8 then we will discard one of them"
   ]
  },
  {
   "cell_type": "code",
   "execution_count": 136,
   "id": "a6ba71b4",
   "metadata": {},
   "outputs": [
    {
     "data": {
      "text/html": [
       "<div>\n",
       "<style scoped>\n",
       "    .dataframe tbody tr th:only-of-type {\n",
       "        vertical-align: middle;\n",
       "    }\n",
       "\n",
       "    .dataframe tbody tr th {\n",
       "        vertical-align: top;\n",
       "    }\n",
       "\n",
       "    .dataframe thead th {\n",
       "        text-align: right;\n",
       "    }\n",
       "</style>\n",
       "<table border=\"1\" class=\"dataframe\">\n",
       "  <thead>\n",
       "    <tr style=\"text-align: right;\">\n",
       "      <th></th>\n",
       "      <th>Age_08_04</th>\n",
       "      <th>KM</th>\n",
       "      <th>Weight</th>\n",
       "      <th>Price</th>\n",
       "    </tr>\n",
       "  </thead>\n",
       "  <tbody>\n",
       "    <tr>\n",
       "      <th>Age_08_04</th>\n",
       "      <td>1.000000</td>\n",
       "      <td>0.504575</td>\n",
       "      <td>-0.466484</td>\n",
       "      <td>-0.876273</td>\n",
       "    </tr>\n",
       "    <tr>\n",
       "      <th>KM</th>\n",
       "      <td>0.504575</td>\n",
       "      <td>1.000000</td>\n",
       "      <td>-0.023969</td>\n",
       "      <td>-0.569420</td>\n",
       "    </tr>\n",
       "    <tr>\n",
       "      <th>Weight</th>\n",
       "      <td>-0.466484</td>\n",
       "      <td>-0.023969</td>\n",
       "      <td>1.000000</td>\n",
       "      <td>0.575869</td>\n",
       "    </tr>\n",
       "    <tr>\n",
       "      <th>Price</th>\n",
       "      <td>-0.876273</td>\n",
       "      <td>-0.569420</td>\n",
       "      <td>0.575869</td>\n",
       "      <td>1.000000</td>\n",
       "    </tr>\n",
       "  </tbody>\n",
       "</table>\n",
       "</div>"
      ],
      "text/plain": [
       "           Age_08_04        KM    Weight     Price\n",
       "Age_08_04   1.000000  0.504575 -0.466484 -0.876273\n",
       "KM          0.504575  1.000000 -0.023969 -0.569420\n",
       "Weight     -0.466484 -0.023969  1.000000  0.575869\n",
       "Price      -0.876273 -0.569420  0.575869  1.000000"
      ]
     },
     "execution_count": 136,
     "metadata": {},
     "output_type": "execute_result"
    }
   ],
   "source": [
    "df=data[['Age_08_04','KM','Weight','Price']]\n",
    "df.corr()"
   ]
  },
  {
   "cell_type": "markdown",
   "id": "db20eb8d",
   "metadata": {},
   "source": [
    "#### We have extracted Age_08_04,KM and Weight as numerical features"
   ]
  },
  {
   "cell_type": "markdown",
   "id": "f8f8698e",
   "metadata": {},
   "source": [
    "### 4.2) Kendall Coorelation Matrix for feature selection in ordinal categorical data "
   ]
  },
  {
   "cell_type": "markdown",
   "id": "200f060a",
   "metadata": {},
   "source": [
    "#### Kendall method is used when the data is categorical(orinal) and numeric"
   ]
  },
  {
   "cell_type": "markdown",
   "id": "ae09a2f0",
   "metadata": {},
   "source": [
    "#### Extracting Categorical(Ordinal) features"
   ]
  },
  {
   "cell_type": "code",
   "execution_count": 137,
   "id": "f24ec4fc",
   "metadata": {},
   "outputs": [
    {
     "data": {
      "text/html": [
       "<div>\n",
       "<style scoped>\n",
       "    .dataframe tbody tr th:only-of-type {\n",
       "        vertical-align: middle;\n",
       "    }\n",
       "\n",
       "    .dataframe tbody tr th {\n",
       "        vertical-align: top;\n",
       "    }\n",
       "\n",
       "    .dataframe thead th {\n",
       "        text-align: right;\n",
       "    }\n",
       "</style>\n",
       "<table border=\"1\" class=\"dataframe\">\n",
       "  <thead>\n",
       "    <tr style=\"text-align: right;\">\n",
       "      <th></th>\n",
       "      <th>Doors</th>\n",
       "      <th>Gears</th>\n",
       "      <th>Price</th>\n",
       "    </tr>\n",
       "  </thead>\n",
       "  <tbody>\n",
       "    <tr>\n",
       "      <th>0</th>\n",
       "      <td>3</td>\n",
       "      <td>5</td>\n",
       "      <td>13500</td>\n",
       "    </tr>\n",
       "    <tr>\n",
       "      <th>1</th>\n",
       "      <td>3</td>\n",
       "      <td>5</td>\n",
       "      <td>13750</td>\n",
       "    </tr>\n",
       "    <tr>\n",
       "      <th>2</th>\n",
       "      <td>3</td>\n",
       "      <td>5</td>\n",
       "      <td>13950</td>\n",
       "    </tr>\n",
       "    <tr>\n",
       "      <th>3</th>\n",
       "      <td>3</td>\n",
       "      <td>5</td>\n",
       "      <td>14950</td>\n",
       "    </tr>\n",
       "    <tr>\n",
       "      <th>4</th>\n",
       "      <td>3</td>\n",
       "      <td>5</td>\n",
       "      <td>13750</td>\n",
       "    </tr>\n",
       "    <tr>\n",
       "      <th>...</th>\n",
       "      <td>...</td>\n",
       "      <td>...</td>\n",
       "      <td>...</td>\n",
       "    </tr>\n",
       "    <tr>\n",
       "      <th>1431</th>\n",
       "      <td>3</td>\n",
       "      <td>5</td>\n",
       "      <td>7500</td>\n",
       "    </tr>\n",
       "    <tr>\n",
       "      <th>1432</th>\n",
       "      <td>3</td>\n",
       "      <td>5</td>\n",
       "      <td>10845</td>\n",
       "    </tr>\n",
       "    <tr>\n",
       "      <th>1433</th>\n",
       "      <td>3</td>\n",
       "      <td>5</td>\n",
       "      <td>8500</td>\n",
       "    </tr>\n",
       "    <tr>\n",
       "      <th>1434</th>\n",
       "      <td>3</td>\n",
       "      <td>5</td>\n",
       "      <td>7250</td>\n",
       "    </tr>\n",
       "    <tr>\n",
       "      <th>1435</th>\n",
       "      <td>5</td>\n",
       "      <td>5</td>\n",
       "      <td>6950</td>\n",
       "    </tr>\n",
       "  </tbody>\n",
       "</table>\n",
       "<p>1435 rows × 3 columns</p>\n",
       "</div>"
      ],
      "text/plain": [
       "      Doors  Gears  Price\n",
       "0         3      5  13500\n",
       "1         3      5  13750\n",
       "2         3      5  13950\n",
       "3         3      5  14950\n",
       "4         3      5  13750\n",
       "...     ...    ...    ...\n",
       "1431      3      5   7500\n",
       "1432      3      5  10845\n",
       "1433      3      5   8500\n",
       "1434      3      5   7250\n",
       "1435      5      5   6950\n",
       "\n",
       "[1435 rows x 3 columns]"
      ]
     },
     "execution_count": 137,
     "metadata": {},
     "output_type": "execute_result"
    }
   ],
   "source": [
    "data2=data[[\"Doors\",\"Gears\",\"Price\"]]\n",
    "data2"
   ]
  },
  {
   "cell_type": "code",
   "execution_count": 138,
   "id": "dbe58cfd",
   "metadata": {},
   "outputs": [
    {
     "data": {
      "text/plain": [
       "<Axes: >"
      ]
     },
     "execution_count": 138,
     "metadata": {},
     "output_type": "execute_result"
    },
    {
     "data": {
      "image/png": "[encoded data removed]",
      "text/plain": [
       "<Figure size 1000x1000 with 2 Axes>"
      ]
     },
     "metadata": {},
     "output_type": "display_data"
    }
   ],
   "source": [
    "fig, ax = plt.subplots(figsize=(10,10))  \n",
    "sns.heatmap(data2.corr(method ='kendall'),annot=True)"
   ]
  },
  {
   "cell_type": "markdown",
   "id": "dd889cb1",
   "metadata": {},
   "source": [
    "#### Selecting Features with having Coorelation greater than absolute(0.5) with Price "
   ]
  },
  {
   "cell_type": "code",
   "execution_count": 139,
   "id": "042e51b4",
   "metadata": {},
   "outputs": [
    {
     "data": {
      "text/plain": [
       "Price    1.0\n",
       "Name: Price, dtype: float64"
      ]
     },
     "execution_count": 139,
     "metadata": {},
     "output_type": "execute_result"
    }
   ],
   "source": [
    "#Correlation with output variable\n",
    "cor = data2.corr()\n",
    "cor_target = abs(cor[\"Price\"])\n",
    "#Selecting highly correlated features\n",
    "relevant_features = cor_target[cor_target>0.5]\n",
    "relevant_features"
   ]
  },
  {
   "cell_type": "markdown",
   "id": "1bb49ea6",
   "metadata": {},
   "source": [
    "#### No features found"
   ]
  },
  {
   "cell_type": "markdown",
   "id": "9dd3746c",
   "metadata": {},
   "source": [
    "### 4.3) ANOVA F score for feature selection in nominal categorical data "
   ]
  },
  {
   "cell_type": "markdown",
   "id": "8e3b547f",
   "metadata": {},
   "source": [
    "#### F score method is used when the data is categorical(nominal) and numeric"
   ]
  },
  {
   "cell_type": "markdown",
   "id": "980721b2",
   "metadata": {},
   "source": [
    "#### Extracting Categorical(nominal) features"
   ]
  },
  {
   "cell_type": "code",
   "execution_count": 141,
   "id": "65ae6578",
   "metadata": {},
   "outputs": [],
   "source": [
    "X=data[['Automatic', 'Met_Color', 'Mfg_Guarantee',\n",
    "       'BOVAG_Guarantee', 'ABS', 'Airbag_1', 'Airbag_2', 'Airco',\n",
    "       'Automatic_airco', 'Boardcomputer', 'CD_Player', 'Central_Lock',\n",
    "       'Powered_Windows', 'Power_Steering', 'Radio', 'Mistlamps',\n",
    "       'Sport_Model', 'Backseat_Divider', 'Metallic_Rim', 'Radio_cassette',\n",
    "       'Tow_Bar','Diesel','Petrol','CNG','2002','2003','2004','2001','2000','1999','1998',\n",
    "       'Blue','Silver','Black','White','Grey','Red','Green','Yellow','Violet','Beige']]\n",
    "y=data['Price']"
   ]
  },
  {
   "cell_type": "code",
   "execution_count": 142,
   "id": "b6eda697",
   "metadata": {},
   "outputs": [
    {
     "name": "stdout",
     "output_type": "stream",
     "text": [
      "            Features   F_Scores\n",
      "25              2003  11.567248\n",
      "8    Automatic_airco  10.628842\n",
      "26              2004   8.579907\n",
      "24              2002   8.140343\n",
      "9      Boardcomputer   6.575518\n",
      "27              2001   6.437781\n",
      "30              1998   5.781501\n",
      "10         CD_Player   3.973778\n",
      "29              1999   2.832226\n",
      "7              Airco   2.562728\n",
      "28              2000   2.254844\n",
      "16       Sport_Model   2.063068\n",
      "4                ABS   1.755650\n",
      "21            Diesel   1.723086\n",
      "3    BOVAG_Guarantee   1.715485\n",
      "11      Central_Lock   1.672755\n",
      "12   Powered_Windows   1.654499\n",
      "22            Petrol   1.576214\n",
      "35              Grey   1.406390\n",
      "15         Mistlamps   1.400183\n",
      "18      Metallic_Rim   1.397998\n",
      "2      Mfg_Guarantee   1.366504\n",
      "6           Airbag_2   1.357487\n",
      "31              Blue   1.235048\n",
      "40             Beige   1.169526\n",
      "17  Backseat_Divider   1.169372\n",
      "1          Met_Color   1.157701\n",
      "32            Silver   1.154243\n",
      "19    Radio_cassette   1.138297\n",
      "14             Radio   1.135432\n",
      "36               Red   1.080624\n",
      "0          Automatic   1.079382\n",
      "33             Black   1.030031\n",
      "20           Tow_Bar   0.986594\n",
      "34             White   0.970989\n",
      "37             Green   0.933114\n",
      "23               CNG   0.814023\n",
      "38            Yellow   0.768913\n",
      "5           Airbag_1   0.665917\n",
      "13    Power_Steering   0.544348\n",
      "39            Violet   0.102628\n"
     ]
    }
   ],
   "source": [
    "import sklearn.feature_selection as fs\n",
    "fscore = fs.SelectKBest(k='all')\n",
    "fscore.fit(X, y)\n",
    "names = X.columns.values[fscore.get_support()]\n",
    "scores = fscore.scores_[fscore.get_support()]\n",
    "names_scores = list(zip(names, scores))\n",
    "df2 = pd.DataFrame(data = names_scores, columns=\n",
    "  ['Features','F_Scores'])\n",
    "df2_sorted = df2.sort_values(['F_Scores','Features'], ascending =\n",
    "  [False, True])\n",
    "print(df2_sorted)"
   ]
  },
  {
   "cell_type": "markdown",
   "id": "586b3acd",
   "metadata": {},
   "source": [
    "#### Based on high F scores we would be taking 1998,2001,2002,2003,2004,Automatic_airco,Boardcomputer and CD_Player "
   ]
  },
  {
   "cell_type": "markdown",
   "id": "02335e9c",
   "metadata": {},
   "source": [
    "### 4.2) Matrix plot"
   ]
  },
  {
   "cell_type": "markdown",
   "id": "e1a2c321",
   "metadata": {},
   "source": [
    "### 4.2.1) Matrix Plot of Numeric variables"
   ]
  },
  {
   "cell_type": "code",
   "execution_count": 143,
   "id": "5cd1468a",
   "metadata": {},
   "outputs": [],
   "source": [
    "matrixdata=data[['Price', 'Age_08_04',  'KM', 'HP']]"
   ]
  },
  {
   "cell_type": "code",
   "execution_count": 144,
   "id": "a9bdf8a5",
   "metadata": {},
   "outputs": [
    {
     "data": {
      "text/plain": [
       "array([[<Axes: xlabel='Price', ylabel='Price'>,\n",
       "        <Axes: xlabel='Age_08_04', ylabel='Price'>,\n",
       "        <Axes: xlabel='KM', ylabel='Price'>,\n",
       "        <Axes: xlabel='HP', ylabel='Price'>],\n",
       "       [<Axes: xlabel='Price', ylabel='Age_08_04'>,\n",
       "        <Axes: xlabel='Age_08_04', ylabel='Age_08_04'>,\n",
       "        <Axes: xlabel='KM', ylabel='Age_08_04'>,\n",
       "        <Axes: xlabel='HP', ylabel='Age_08_04'>],\n",
       "       [<Axes: xlabel='Price', ylabel='KM'>,\n",
       "        <Axes: xlabel='Age_08_04', ylabel='KM'>,\n",
       "        <Axes: xlabel='KM', ylabel='KM'>,\n",
       "        <Axes: xlabel='HP', ylabel='KM'>],\n",
       "       [<Axes: xlabel='Price', ylabel='HP'>,\n",
       "        <Axes: xlabel='Age_08_04', ylabel='HP'>,\n",
       "        <Axes: xlabel='KM', ylabel='HP'>,\n",
       "        <Axes: xlabel='HP', ylabel='HP'>]], dtype=object)"
      ]
     },
     "execution_count": 144,
     "metadata": {},
     "output_type": "execute_result"
    },
    {
     "data": {
      "image/png": "[encoded data removed]",
      "text/plain": [
       "<Figure size 640x480 with 16 Axes>"
      ]
     },
     "metadata": {},
     "output_type": "display_data"
    }
   ],
   "source": [
    "pd.plotting.scatter_matrix(matrixdata)"
   ]
  },
  {
   "cell_type": "code",
   "execution_count": 100,
   "id": "7fbdd9c3",
   "metadata": {},
   "outputs": [],
   "source": [
    "matrixdata1=data[['CC', 'Quarterly_Tax', 'Weight', 'Guarantee_Period']]"
   ]
  },
  {
   "cell_type": "code",
   "execution_count": 101,
   "id": "e01cf350",
   "metadata": {},
   "outputs": [
    {
     "data": {
      "text/plain": [
       "array([[<Axes: xlabel='CC', ylabel='CC'>,\n",
       "        <Axes: xlabel='Quarterly_Tax', ylabel='CC'>,\n",
       "        <Axes: xlabel='Weight', ylabel='CC'>,\n",
       "        <Axes: xlabel='Guarantee_Period', ylabel='CC'>],\n",
       "       [<Axes: xlabel='CC', ylabel='Quarterly_Tax'>,\n",
       "        <Axes: xlabel='Quarterly_Tax', ylabel='Quarterly_Tax'>,\n",
       "        <Axes: xlabel='Weight', ylabel='Quarterly_Tax'>,\n",
       "        <Axes: xlabel='Guarantee_Period', ylabel='Quarterly_Tax'>],\n",
       "       [<Axes: xlabel='CC', ylabel='Weight'>,\n",
       "        <Axes: xlabel='Quarterly_Tax', ylabel='Weight'>,\n",
       "        <Axes: xlabel='Weight', ylabel='Weight'>,\n",
       "        <Axes: xlabel='Guarantee_Period', ylabel='Weight'>],\n",
       "       [<Axes: xlabel='CC', ylabel='Guarantee_Period'>,\n",
       "        <Axes: xlabel='Quarterly_Tax', ylabel='Guarantee_Period'>,\n",
       "        <Axes: xlabel='Weight', ylabel='Guarantee_Period'>,\n",
       "        <Axes: xlabel='Guarantee_Period', ylabel='Guarantee_Period'>]],\n",
       "      dtype=object)"
      ]
     },
     "execution_count": 101,
     "metadata": {},
     "output_type": "execute_result"
    },
    {
     "data": {
      "image/png": "[encoded data removed]",
      "text/plain": [
       "<Figure size 640x480 with 16 Axes>"
      ]
     },
     "metadata": {},
     "output_type": "display_data"
    }
   ],
   "source": [
    "pd.plotting.scatter_matrix(matrixdata1)"
   ]
  },
  {
   "cell_type": "markdown",
   "id": "433dc025",
   "metadata": {},
   "source": [
    "### 4.2.2) Visualization of Categorical variables"
   ]
  },
  {
   "cell_type": "markdown",
   "id": "3176c3a0",
   "metadata": {},
   "source": [
    "### 4.2.1) MFG_MONTH"
   ]
  },
  {
   "cell_type": "code",
   "execution_count": 145,
   "id": "6672856b",
   "metadata": {},
   "outputs": [
    {
     "data": {
      "text/plain": [
       "<Axes: xlabel='Price', ylabel='Count'>"
      ]
     },
     "execution_count": 145,
     "metadata": {},
     "output_type": "execute_result"
    },
    {
     "data": {
      "image/png": "[encoded data removed]",
      "text/plain": [
       "<Figure size 640x480 with 1 Axes>"
      ]
     },
     "metadata": {},
     "output_type": "display_data"
    }
   ],
   "source": [
    "sns.histplot(data = data, x = \"Price\", hue = \"Mfg_Month\")"
   ]
  },
  {
   "cell_type": "code",
   "execution_count": 146,
   "id": "f2c1638e",
   "metadata": {},
   "outputs": [
    {
     "data": {
      "text/plain": [
       "<Axes: ylabel='Price'>"
      ]
     },
     "execution_count": 146,
     "metadata": {},
     "output_type": "execute_result"
    },
    {
     "data": {
      "image/png": "[encoded data removed]",
      "text/plain": [
       "<Figure size 640x480 with 1 Axes>"
      ]
     },
     "metadata": {},
     "output_type": "display_data"
    }
   ],
   "source": [
    "data. groupby(['Mfg_Month']). sum(). plot(kind='pie', y='Price',autopct='%1.1f%%')"
   ]
  },
  {
   "cell_type": "markdown",
   "id": "51e14a8c",
   "metadata": {},
   "source": [
    "### STEP 5) MODEL TRAINING"
   ]
  },
  {
   "cell_type": "markdown",
   "id": "d1e99229",
   "metadata": {},
   "source": [
    "#### Selected features with the output variable"
   ]
  },
  {
   "cell_type": "code",
   "execution_count": 151,
   "id": "33c95cc5",
   "metadata": {},
   "outputs": [
    {
     "data": {
      "text/plain": [
       "Index(['Price', 'Age_08_04', 'Mfg_Month', 'KM', 'HP', 'Met_Color', 'Automatic',\n",
       "       'CC', 'Doors', 'Gears', 'Quarterly_Tax', 'Weight', 'Mfg_Guarantee',\n",
       "       'BOVAG_Guarantee', 'Guarantee_Period', 'ABS', 'Airbag_1', 'Airbag_2',\n",
       "       'Airco', 'Automatic_airco', 'Boardcomputer', 'CD_Player',\n",
       "       'Central_Lock', 'Powered_Windows', 'Power_Steering', 'Radio',\n",
       "       'Mistlamps', 'Sport_Model', 'Backseat_Divider', 'Metallic_Rim',\n",
       "       'Radio_cassette', 'Tow_Bar', 'CNG', 'Diesel', 'Petrol', 'Beige',\n",
       "       'Black', 'Blue', 'Green', 'Grey', 'Red', 'Silver', 'Violet', 'White',\n",
       "       'Yellow', '1998', '1999', '2000', '2001', '2002', '2003', '2004'],\n",
       "      dtype='object')"
      ]
     },
     "execution_count": 151,
     "metadata": {},
     "output_type": "execute_result"
    }
   ],
   "source": [
    "data.columns"
   ]
  },
  {
   "cell_type": "code",
   "execution_count": 152,
   "id": "b2472fb0",
   "metadata": {},
   "outputs": [],
   "source": [
    "x1=data[['Age_08_04','KM','Weight','Automatic_airco', 'Boardcomputer', 'CD_Player','1998',\n",
    "'2001','2002','2003','2004']]\n",
    "y1=data['Price']"
   ]
  },
  {
   "cell_type": "markdown",
   "id": "aa8b84bb",
   "metadata": {},
   "source": [
    "#### Splitting the data in train and test"
   ]
  },
  {
   "cell_type": "code",
   "execution_count": 154,
   "id": "825dc725",
   "metadata": {},
   "outputs": [],
   "source": [
    "x1_train,x1_test,y1_train,y1_test = train_test_split(x1,y1,test_size = 0.30 ,random_state = 2)"
   ]
  },
  {
   "cell_type": "markdown",
   "id": "cfab3274",
   "metadata": {},
   "source": [
    "#### Applying the model and computing R2,RMSE and CV"
   ]
  },
  {
   "cell_type": "code",
   "execution_count": 155,
   "id": "02a475f1",
   "metadata": {},
   "outputs": [
    {
     "name": "stdout",
     "output_type": "stream",
     "text": [
      "RMSE for the data: 1185.7756025480853\n",
      "Rsquared for the data: 0.8795836800574965\n",
      "CV:  0.8787949427439108\n"
     ]
    }
   ],
   "source": [
    "\n",
    "model = linear_model.LinearRegression()\n",
    "model.fit(x1_train, y1_train)\n",
    "y1_pred = model.predict(x1_test)\n",
    "\n",
    "MSE = np.square(np.subtract(y1_test,y1_pred)).mean() \n",
    "RMSE = math.sqrt(MSE)\n",
    "r2 = r2_score(y1_test, y1_pred)\n",
    "cv_linear = cross_val_score(model,x1_train,y1_train)\n",
    "print('RMSE for the data:',RMSE)\n",
    "print('Rsquared for the data:',r2)\n",
    "print(\"CV: \", cv_linear.mean())"
   ]
  }
 ],
 "metadata": {
  "kernelspec": {
   "display_name": "Python 3 (ipykernel)",
   "language": "python",
   "name": "python3"
  },
  "language_info": {
   "codemirror_mode": {
    "name": "ipython",
    "version": 3
   },
   "file_extension": ".py",
   "mimetype": "text/x-python",
   "name": "python",
   "nbconvert_exporter": "python",
   "pygments_lexer": "ipython3",
   "version": "3.10.9"
  }
 },
 "nbformat": 4,
 "nbformat_minor": 5
}
